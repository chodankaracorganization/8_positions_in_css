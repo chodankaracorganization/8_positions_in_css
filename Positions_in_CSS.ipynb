{
  "nbformat": 4,
  "nbformat_minor": 0,
  "metadata": {
    "colab": {
      "provenance": []
    },
    "kernelspec": {
      "name": "python3",
      "display_name": "Python 3"
    },
    "language_info": {
      "name": "python"
    }
  },
  "cells": [
    {
      "cell_type": "markdown",
      "source": [
        "1.Write code to position 5 equal-sized (50 X 50px) boxes A, B, C, D, and E as follows\n",
        "\n",
        "1.box A 200px from the left, and 200px from the top of the viewport\n",
        "2.box B -30px left, and -30px above from the center of box A\n",
        "3.box C -30px right, and -30px above from the center of box A\n",
        "4.box D -30px left, and -30px below from the center of box A\n",
        "5.box E -30px right, and -30px below from the center of box A."
      ],
      "metadata": {
        "id": "M35rMSB11p8d"
      }
    },
    {
      "cell_type": "code",
      "source": [
        "<!DOCTYPE html>\n",
        "<html lang=\"en\">\n",
        "<head>\n",
        "    <meta charset=\"UTF-8\">\n",
        "    <meta name=\"viewport\" content=\"width=device-width, initial-scale=1.0\">\n",
        "    <title>Document</title>\n",
        "    <link rel=\"stylesheet\" href=\"style1.css\">\n",
        "</head>\n",
        "<body>\n",
        "    <div>\n",
        "        <div class=\"box a\">\n",
        "            A\n",
        "            <section class=\"box b\">\n",
        "                B\n",
        "            </section>\n",
        "            <section class=\"box c\">\n",
        "                C\n",
        "            </section>\n",
        "            <section class=\"box d\">\n",
        "                D\n",
        "            </section>\n",
        "            <section class=\"box e\">\n",
        "                E\n",
        "            </section>\n",
        "        </div>\n",
        "    </div>\n",
        "</body>\n",
        "</html>"
      ],
      "metadata": {
        "id": "7N709oi119Rr"
      },
      "execution_count": null,
      "outputs": []
    },
    {
      "cell_type": "code",
      "source": [
        "/* style1.css */\n",
        ".box{\n",
        "    background-color: aqua;\n",
        "    width: 50px;\n",
        "    height: 50px;\n",
        "    text-align: center;\n",
        "    font-weight: bold;\n",
        "    border:1px solid #D7D7DB\n",
        "}\n",
        "\n",
        ".box.a{\n",
        "    position: relative;\n",
        "    top:200px;\n",
        "    left:200px;\n",
        "}\n",
        "\n",
        ".box.b{\n",
        "    position: absolute;\n",
        "    top:-30px;\n",
        "    left:-30px;\n",
        "}\n",
        "\n",
        ".box.c{\n",
        "    position:absolute;\n",
        "    top:-30px;\n",
        "    right:-30px;\n",
        "}\n",
        "\n",
        ".box.d{\n",
        "    position: absolute;\n",
        "    bottom:-30px;\n",
        "    left:-30px;\n",
        "}\n",
        "\n",
        ".box.e{\n",
        "    position: absolute;\n",
        "    bottom:-30px;\n",
        "    right:-30px;\n",
        "}"
      ],
      "metadata": {
        "id": "_l_U5Cqe4gZb"
      },
      "execution_count": null,
      "outputs": []
    },
    {
      "cell_type": "markdown",
      "source": [
        "2.Explain the difference between Absolute and Relative positioning."
      ],
      "metadata": {
        "id": "mjWHFIcC2AFP"
      }
    },
    {
      "cell_type": "markdown",
      "source": [
        "In CSS, positioning determines how elements are placed on a webpage. Two common positioning methods are absolute and relative, which behave differently in the document flow.\n",
        "1. Relative Positioning (position: relative;)\n",
        "\n",
        "    Definition: Positions an element relative to its normal position in the document flow.\n",
        "\n",
        "    Behavior:\n",
        "\n",
        "        The element still occupies its original space in the layout.\n",
        "\n",
        "        You can adjust its position using top, right, bottom, or left properties.\n",
        "\n",
        "        Other elements are not affected by its movement.\n",
        "\n",
        "    Use Case: Slightly adjusting an element without disrupting surrounding content.\n"
      ],
      "metadata": {
        "id": "7Swlp9-s3Lev"
      }
    },
    {
      "cell_type": "code",
      "source": [
        ".box {\n",
        "  position: relative;\n",
        "  top: 20px;  /* Moves 20px down from its normal position */\n",
        "  left: 30px; /* Moves 30px right from its normal position */\n",
        "}"
      ],
      "metadata": {
        "id": "gWHnpAHu3Of7"
      },
      "execution_count": null,
      "outputs": []
    },
    {
      "cell_type": "markdown",
      "source": [
        "2. Absolute Positioning (position: absolute;)\n",
        "\n",
        "    Definition: Removes the element from the normal document flow and positions it relative to its nearest positioned ancestor (parent with position: relative, absolute, fixed, or sticky). If none exists, it uses the <html> (viewport) as a reference.\n",
        "\n",
        "    Behavior:\n",
        "\n",
        "        The element does not occupy space in the normal flow.\n",
        "\n",
        "        Other elements behave as if the absolutely positioned element doesn’t exist.\n",
        "\n",
        "        Requires top, right, bottom, or left to position it.\n",
        "\n",
        "    Use Case: Placing elements precisely (e.g., tooltips, modals, overlapping items)."
      ],
      "metadata": {
        "id": "HaUEg5Ql3ane"
      }
    },
    {
      "cell_type": "code",
      "source": [
        ".parent {\n",
        "  position: relative; /* Establishes a positioning context */\n",
        "}\n",
        "\n",
        ".child {\n",
        "  position: absolute;\n",
        "  top: 10px;  /* 10px from the top of .parent */\n",
        "  right: 0;   /* 0px from the right of .parent */\n",
        "}"
      ],
      "metadata": {
        "id": "U-H2WA8o3epd"
      },
      "execution_count": null,
      "outputs": []
    },
    {
      "cell_type": "markdown",
      "source": [
        "3.Create a card as shown in the picture below. (You can use CSS float property only for layout)."
      ],
      "metadata": {
        "id": "yKQkgwPK34UF"
      }
    },
    {
      "cell_type": "code",
      "source": [
        "<!DOCTYPE html>\n",
        "<html lang=\"en\">\n",
        "<head>\n",
        "    <meta charset=\"UTF-8\">\n",
        "    <meta name=\"viewport\" content=\"width=device-width, initial-scale=1.0\">\n",
        "    <title>Document</title>\n",
        "    <style>img{float: right;}</style>\n",
        "</head>\n",
        "<body>\n",
        "    <section style=\"background-color: #F5F5DC ; padding: 20px; height:300px; width:600px;\">\n",
        "        <h1>The Earth!</h1>\n",
        "        <p> <img src=\"https://encrypted-tbn0.gstatic.com/images?q=tbn:ANd9GcQdlcKVU98QcFx7JalXJdTJeSK7FhybP87H9Q&s\" alt=\"Earth!\">\n",
        "            Nature is Earth's masterpiece, a symphony of life composed through millennia.\n",
        "        Its landscapes whisper tales of ancient mountains,winding rivers,and flourishing forests,reminding us of the planet's boundless beauty.\n",
        "        From delicate petals to towering redwoods,nature's artistry stirs awe and reconnects us to escape of existence.\n",
        "        Nature is Earth's masterpice, a symphony of life composed through millenia.\n",
        "        Is landscapes whisper tales of ancient mountains,winding rivers,and flourishing forests.\n",
        "    </p>\n",
        "    </section>\n",
        "</body>\n",
        "</html>"
      ],
      "metadata": {
        "id": "4aJE8BVC7Seu"
      },
      "execution_count": null,
      "outputs": []
    },
    {
      "cell_type": "markdown",
      "source": [
        "4.Create a simple header that sticks to the top of a webpage upon scrolling."
      ],
      "metadata": {
        "id": "w_3dTcq37T7g"
      }
    },
    {
      "cell_type": "code",
      "source": [
        "<!DOCTYPE html>\n",
        "<html lang=\"en\">\n",
        "  <head>\n",
        "    <meta charset=\"UTF-8\" />\n",
        "    <meta name=\"viewport\" content=\"width=device-width, initial-scale=1.0\" />\n",
        "    <title>Document</title>\n",
        "    <style>\n",
        "        .navbar{\n",
        "          display: flex;\n",
        "          justify-content: space-between;\n",
        "          background-color: #2b2922;\n",
        "          padding: 1rem;\n",
        "          position: sticky;\n",
        "          top:0;\n",
        "          align-items: center;\n",
        "        }\n",
        "\n",
        "        .logo{\n",
        "            color: #d9dee0;\n",
        "            font-weight: bold;\n",
        "            font-family: Arial, Helvetica, sans-serif;\n",
        "        }\n",
        "        .navLabel{\n",
        "            display: flex;\n",
        "            gap: 2rem;\n",
        "            color:#484B48;\n",
        "            font-family: cursive;\n",
        "            font-size:1.2rem;\n",
        "            align-items: center;\n",
        "        }\n",
        "        .getStarted{\n",
        "            background-color: transparent; color: #8a7a20; padding: 0.7rem;border:0.1rem solid #8a7a20;border-radius: 0.5rem;\n",
        "        }\n",
        "    </style>\n",
        "  </head>\n",
        "  <body>\n",
        "    <div style=\"max-width: 60rem;border: 1px solid; height:50vh; overflow:scroll; position: relative; \">\n",
        "      <nav\n",
        "        class=\"navbar\"\n",
        "      >\n",
        "        <section class=\"logo\" >LOGO</section>\n",
        "        <section class=\"navLabel\">\n",
        "          <label>Home</label>\n",
        "          <label>Pricing</label>\n",
        "          <label>Contact</label>\n",
        "          <label>Terms and Condition</label>\n",
        "          <label class=\"getStarted\">Get Started</label>\n",
        "        </section>\n",
        "      </nav>\n",
        "      <div style=\"padding: 1rem;\">\n",
        "        <section>\n",
        "        <h1>Heading 1</h1>\n",
        "        <p>\n",
        "          Lorem ipsum dolor sit amet, consectetur adipisicing elit. Similique\n",
        "          hic corporis quis itaque, adipisci voluptas fuga, saepe omnis earum,\n",
        "          dolores esse commodi. Debitis vero corrupti quas maiores, iure\n",
        "          deserunt. Saepe dolore iusto odit illum tempora, soluta pariatur eos\n",
        "          vitae cum, eum animi aut obcaecati consequuntur rem corrupti amet\n",
        "          perspiciatis natus eligendi praesentium perferendis autem! Doloremque\n",
        "          blanditiis laboriosam facere doloribus velit. Nostrum molestiae\n",
        "          officiis, atque ipsa obcaecati tempore iusto vel voluptate culpa\n",
        "          labore aperiam enim error accusantium consequuntur dicta natus dolores\n",
        "          molestias sunt unde aut animi nisi itaque. Esse ab, quos corporis\n",
        "          nihil libero enim beatae sapiente architecto eligendi culpa\n",
        "          voluptatum!\n",
        "        </p>\n",
        "        </section>\n",
        "      </section>\n",
        "        <section>\n",
        "        <h1>Heading 2</h1>\n",
        "        <p>\n",
        "          Lorem ipsum dolor sit amet, consectetur adipisicing elit. Similique\n",
        "          hic corporis quis itaque, adipisci voluptas fuga, saepe omnis earum,\n",
        "          dolores esse commodi. Debitis vero corrupti quas maiores, iure\n",
        "          deserunt. Saepe dolore iusto odit illum tempora, soluta pariatur eos\n",
        "          vitae cum, eum animi aut obcaecati consequuntur rem corrupti amet\n",
        "          perspiciatis natus eligendi praesentium perferendis autem! Doloremque\n",
        "          blanditiis laboriosam facere doloribus velit. Nostrum molestiae\n",
        "          officiis, atque ipsa obcaecati tempore iusto vel voluptate culpa\n",
        "          labore aperiam enim error accusantium consequuntur dicta natus dolores\n",
        "          molestias sunt unde aut animi nisi itaque. Esse ab, quos corporis\n",
        "          nihil libero enim beatae sapiente architecto eligendi culpa\n",
        "          voluptatum!\n",
        "        </p>\n",
        "        </section>\n",
        "      </section>\n",
        "        <section>\n",
        "        <h1>Heading 3</h1>\n",
        "        <p>\n",
        "          Lorem ipsum dolor sit amet, consectetur adipisicing elit. Similique\n",
        "          hic corporis quis itaque, adipisci voluptas fuga, saepe omnis earum,\n",
        "          dolores esse commodi. Debitis vero corrupti quas maiores, iure\n",
        "          deserunt. Saepe dolore iusto odit illum tempora, soluta pariatur eos\n",
        "          vitae cum, eum animi aut obcaecati consequuntur rem corrupti amet\n",
        "          perspiciatis natus eligendi praesentium perferendis autem! Doloremque\n",
        "          blanditiis laboriosam facere doloribus velit. Nostrum molestiae\n",
        "          officiis, atque ipsa obcaecati tempore iusto vel voluptate culpa\n",
        "          labore aperiam enim error accusantium consequuntur dicta natus dolores\n",
        "          molestias sunt unde aut animi nisi itaque. Esse ab, quos corporis\n",
        "          nihil libero enim beatae sapiente architecto eligendi culpa\n",
        "          voluptatum!\n",
        "        </p>\n",
        "        </section>\n",
        "      </section>\n",
        "        <section>\n",
        "        <h1>Heading 4</h1>\n",
        "        <p>\n",
        "          Lorem ipsum dolor sit amet, consectetur adipisicing elit. Similique\n",
        "          hic corporis quis itaque, adipisci voluptas fuga, saepe omnis earum,\n",
        "          dolores esse commodi. Debitis vero corrupti quas maiores, iure\n",
        "          deserunt. Saepe dolore iusto odit illum tempora, soluta pariatur eos\n",
        "          vitae cum, eum animi aut obcaecati consequuntur rem corrupti amet\n",
        "          perspiciatis natus eligendi praesentium perferendis autem! Doloremque\n",
        "          blanditiis laboriosam facere doloribus velit. Nostrum molestiae\n",
        "          officiis, atque ipsa obcaecati tempore iusto vel voluptate culpa\n",
        "          labore aperiam enim error accusantium consequuntur dicta natus dolores\n",
        "          molestias sunt unde aut animi nisi itaque. Esse ab, quos corporis\n",
        "          nihil libero enim beatae sapiente architecto eligendi culpa\n",
        "          voluptatum!\n",
        "        </p>\n",
        "        </section>\n",
        "      </section>\n",
        "        <section>\n",
        "        <h1>Heading 5</h1>\n",
        "        <p>\n",
        "          Lorem ipsum dolor sit amet, consectetur adipisicing elit. Similique\n",
        "          hic corporis quis itaque, adipisci voluptas fuga, saepe omnis earum,\n",
        "          dolores esse commodi. Debitis vero corrupti quas maiores, iure\n",
        "          deserunt. Saepe dolore iusto odit illum tempora, soluta pariatur eos\n",
        "          vitae cum, eum animi aut obcaecati consequuntur rem corrupti amet\n",
        "          perspiciatis natus eligendi praesentium perferendis autem! Doloremque\n",
        "          blanditiis laboriosam facere doloribus velit. Nostrum molestiae\n",
        "          officiis, atque ipsa obcaecati tempore iusto vel voluptate culpa\n",
        "          labore aperiam enim error accusantium consequuntur dicta natus dolores\n",
        "          molestias sunt unde aut animi nisi itaque. Esse ab, quos corporis\n",
        "          nihil libero enim beatae sapiente architecto eligendi culpa\n",
        "          voluptatum!\n",
        "        </p>\n",
        "        </section>\n",
        "      </section>\n",
        "        <section>\n",
        "        <h1>Heading 6</h1>\n",
        "        <p>\n",
        "          Lorem ipsum dolor sit amet, consectetur adipisicing elit. Similique\n",
        "          hic corporis quis itaque, adipisci voluptas fuga, saepe omnis earum,\n",
        "          dolores esse commodi. Debitis vero corrupti quas maiores, iure\n",
        "          deserunt. Saepe dolore iusto odit illum tempora, soluta pariatur eos\n",
        "          vitae cum, eum animi aut obcaecati consequuntur rem corrupti amet\n",
        "          perspiciatis natus eligendi praesentium perferendis autem! Doloremque\n",
        "          blanditiis laboriosam facere doloribus velit. Nostrum molestiae\n",
        "          officiis, atque ipsa obcaecati tempore iusto vel voluptate culpa\n",
        "          labore aperiam enim error accusantium consequuntur dicta natus dolores\n",
        "          molestias sunt unde aut animi nisi itaque. Esse ab, quos corporis\n",
        "          nihil libero enim beatae sapiente architecto eligendi culpa\n",
        "          voluptatum!\n",
        "        </p>\n",
        "        </section>\n",
        "      </section>\n",
        "        <section>\n",
        "        <h1>Heading 7</h1>\n",
        "        <p>\n",
        "          Lorem ipsum dolor sit amet, consectetur adipisicing elit. Similique\n",
        "          hic corporis quis itaque, adipisci voluptas fuga, saepe omnis earum,\n",
        "          dolores esse commodi. Debitis vero corrupti quas maiores, iure\n",
        "          deserunt. Saepe dolore iusto odit illum tempora, soluta pariatur eos\n",
        "          vitae cum, eum animi aut obcaecati consequuntur rem corrupti amet\n",
        "          perspiciatis natus eligendi praesentium perferendis autem! Doloremque\n",
        "          blanditiis laboriosam facere doloribus velit. Nostrum molestiae\n",
        "          officiis, atque ipsa obcaecati tempore iusto vel voluptate culpa\n",
        "          labore aperiam enim error accusantium consequuntur dicta natus dolores\n",
        "          molestias sunt unde aut animi nisi itaque. Esse ab, quos corporis\n",
        "          nihil libero enim beatae sapiente architecto eligendi culpa\n",
        "          voluptatum!\n",
        "        </p>\n",
        "        </section>\n",
        "      </section>\n",
        "    </section>\n",
        "  </body>\n",
        "</html>\n"
      ],
      "metadata": {
        "id": "Goxxk2ZB7dJW"
      },
      "execution_count": null,
      "outputs": []
    },
    {
      "cell_type": "markdown",
      "source": [
        "5.Explain the z-index, with a code example."
      ],
      "metadata": {
        "id": "E0MF6m0Z8K2D"
      }
    },
    {
      "cell_type": "markdown",
      "source": [
        "The z-index property controls the stacking order of overlapping elements on a webpage. It determines which element appears on top when elements overlap.\n",
        "\n",
        "    Works only on positioned elements (position: relative, absolute, fixed, or sticky).\n",
        "\n",
        "    Higher z-index values appear above lower ones.\n",
        "\n",
        "    Default z-index is auto (elements stack in order of appearance in HTML).\n",
        "\n",
        "Code Example\n",
        "\n",
        "Let’s create three overlapping boxes to demonstrate z-index:\n",
        "\n",
        "HTML"
      ],
      "metadata": {
        "id": "b1jI5yIo8pLo"
      }
    },
    {
      "cell_type": "code",
      "source": [
        "<!DOCTYPE html>\n",
        "<html lang=\"en\">\n",
        "<head>\n",
        "    <meta charset=\"UTF-8\">\n",
        "    <meta name=\"viewport\" content=\"width=device-width, initial-scale=1.0\">\n",
        "    <title>Document</title>\n",
        "    <link rel=\"stylesheet\" href=\"styles5.css\">\n",
        "</head>\n",
        "<body>\n",
        "    <div class=\"box box1\">Box 1 (z-index: 3)</div>\n",
        "    <div class=\"box box2\">Box 2 (z-index: 2)</div>\n",
        "    <div class=\"box box3\">Box 3 (z-index: 1)</div>\n",
        "</body>\n",
        "</html>"
      ],
      "metadata": {
        "id": "irva5kpM8tPN"
      },
      "execution_count": null,
      "outputs": []
    },
    {
      "cell_type": "code",
      "source": [
        "/* style5.css */\n",
        ".box {\n",
        "    position: absolute; /* Required for z-index to work */\n",
        "    width: 200px;\n",
        "    height: 200px;\n",
        "    color: white;\n",
        "    text-align: center;\n",
        "    line-height: 200px;\n",
        "    font-weight: bold;\n",
        "  }\n",
        "\n",
        "  .box1 {\n",
        "    background: red;\n",
        "    top: 50px;\n",
        "    left: 50px;\n",
        "    z-index: 3; /* Highest → Appears on top */\n",
        "  }\n",
        "\n",
        "  .box2 {\n",
        "    background: green;\n",
        "    top: 100px;\n",
        "    left: 100px;\n",
        "    z-index: 2; /* Middle layer */\n",
        "  }\n",
        "\n",
        "  .box3 {\n",
        "    background: blue;\n",
        "    top: 150px;\n",
        "    left: 150px;\n",
        "    z-index: 1; /* Lowest → Appears at the bottom */\n",
        "  }"
      ],
      "metadata": {
        "id": "t3Vo_8LK86q-"
      },
      "execution_count": null,
      "outputs": []
    }
  ]
}